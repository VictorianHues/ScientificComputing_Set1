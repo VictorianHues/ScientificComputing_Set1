{
 "cells": [
  {
   "cell_type": "markdown",
   "metadata": {},
   "source": [
    "# 1.1:\n"
   ]
  },
  {
   "cell_type": "code",
   "execution_count": 41,
   "metadata": {},
   "outputs": [],
   "source": [
    "import numpy as np\n",
    "import matplotlib.pyplot as plt"
   ]
  },
  {
   "cell_type": "code",
   "execution_count": null,
   "metadata": {},
   "outputs": [],
   "source": [
    "\n",
    "\n",
    "L = 1\n",
    "N = 101\n",
    "dx = L/N\n",
    "x = np.linspace(0,L,N)\n",
    "dt = 0.001\n",
    "tmax = 1\n",
    "num_steps = int(tmax / dt)\n",
    "c = 1\n",
    "\n",
    "def enforce_boundary(grid):\n",
    "    grid[0] = 0\n",
    "    grid[-1] = 0\n",
    "\n",
    "grids = np.zeros([num_steps, N])\n",
    "\n",
    "# grids[0] = np.exp(-((x - L/2)**2) / 0.1)\n",
    "# grids[1] = grids[0].copy()\n",
    "# grids[0] = np.zeros(N)\n",
    "grids[0] = np.sin(5*np.pi*x)\n",
    "\n",
    "grids[0, x<1/5] = 0\n",
    "grids[0, x>2/5] = 0\n",
    "\n",
    "grids[1] = grids[0].copy()\n",
    "\n",
    "\n",
    "for t in range(2,num_steps):\n",
    "    for i in range(1,N-1):\n",
    "        grids[t, i] = c**2 * dt**2 / dx**2 *(grids[t-1, i+1] - 2*grids[t-1,i] + grids[t-1,i-1]) + 2*grids[t-1, i] - grids[t-2,i] \n",
    "        \n",
    "    # enforce_boundary(grids[t])\n",
    "    \n",
    "# print(grids)\n",
    "plt.figure(figsize=[10,10,])\n",
    "plt.imshow(grids)\n",
    "# plt.imshow(grids)\n",
    "# plt.colorbar()\n",
    "\n",
    "\n",
    "    "
   ]
  },
  {
   "cell_type": "code",
   "execution_count": null,
   "metadata": {},
   "outputs": [],
   "source": [
    "\n",
    "\n",
    "L = 1\n",
    "N = 101\n",
    "dx = L/N\n",
    "x = np.linspace(0,L,N)\n",
    "dt = 0.001\n",
    "tmax = 1\n",
    "num_steps = int(tmax / dt)\n",
    "c = 1\n",
    "\n",
    "def enforce_boundary(grid):\n",
    "    grid[0] = 0\n",
    "    grid[-1] = 0\n",
    "\n",
    "grids = np.zeros([num_steps, N])\n",
    "\n",
    "# grids[0] = np.exp(-((x - L/2)**2) / 0.1)\n",
    "# grids[1] = grids[0].copy()\n",
    "# grids[0] = np.zeros(N)\n",
    "grids[0] = np.sin(5*np.pi*x)\n",
    "\n",
    "grids[0, x<1/5] = 0\n",
    "grids[0, x>2/5] = 0\n",
    "\n",
    "grids[1] = grids[0].copy()\n",
    "\n",
    "\n",
    "for t in range(2,num_steps):\n",
    "    for i in range(1,N-1):\n",
    "        grids[t, i] = c**2 * dt**2 / dx**2 *(grids[t-1, i+1] - 2*grids[t-1,i] + grids[t-1,i-1]) + 2*grids[t-1, i] - grids[t-2,i] \n",
    "        \n",
    "    # enforce_boundary(grids[t])\n",
    "    \n",
    "# print(grids)\n",
    "plt.figure(figsize=[10,10,])\n",
    "plt.imshow(grids)\n",
    "# plt.imshow(grids)\n",
    "# plt.colorbar()\n",
    "\n",
    "\n",
    "    "
   ]
  }
 ],
 "metadata": {
  "kernelspec": {
   "display_name": "introcls",
   "language": "python",
   "name": "python3"
  },
  "language_info": {
   "codemirror_mode": {
    "name": "ipython",
    "version": 3
   },
   "file_extension": ".py",
   "mimetype": "text/x-python",
   "name": "python",
   "nbconvert_exporter": "python",
   "pygments_lexer": "ipython3",
   "version": "3.12.5"
  }
 },
 "nbformat": 4,
 "nbformat_minor": 2
}
